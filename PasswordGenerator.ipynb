{
  "nbformat": 4,
  "nbformat_minor": 0,
  "metadata": {
    "colab": {
      "provenance": [],
      "authorship_tag": "ABX9TyOocgdAxr5cp6hLFnOPu4Pn",
      "include_colab_link": true
    },
    "kernelspec": {
      "name": "python3",
      "display_name": "Python 3"
    },
    "language_info": {
      "name": "python"
    }
  },
  "cells": [
    {
      "cell_type": "markdown",
      "metadata": {
        "id": "view-in-github",
        "colab_type": "text"
      },
      "source": [
        "<a href=\"https://colab.research.google.com/github/8shahjay/PasscodeGenerator/blob/main/PasswordGenerator.ipynb\" target=\"_parent\"><img src=\"https://colab.research.google.com/assets/colab-badge.svg\" alt=\"Open In Colab\"/></a>"
      ]
    },
    {
      "cell_type": "markdown",
      "source": [
        "# **Password Generator**\n",
        "\n",
        "- In the digital age, safeguarding your online presence is paramount. Our Password Generator offers a dynamic solution to enhance your security with ease. Tailored to your preferences, this tool enables you to create strong and unique passwords effortlessly.\n",
        "\n",
        "- Simply provide the desired length of your password and specify whether you want to include numbers and special characters. With these inputs, our generator crafts a password that meets your criteria, ensuring a robust defense against potential security threats.\n",
        "\n",
        "- Discover the simplicity of generating secure passwords that align with your preferences. Strengthen your digital security with the Password Generator today!"
      ],
      "metadata": {
        "id": "AsUVMAM_jwHM"
      }
    },
    {
      "cell_type": "code",
      "execution_count": 1,
      "metadata": {
        "id": "uzpcdMtl6RDU"
      },
      "outputs": [],
      "source": [
        "# Importing the libraries\n",
        "\n",
        "import random\n",
        "import string"
      ]
    },
    {
      "cell_type": "code",
      "source": [
        "def password_generator(min_length, numbers=True, special_char=True):\n",
        "  letters = string.ascii_letters\n",
        "  digits = string.digits\n",
        "  special = string.punctuation\n",
        "\n",
        "  characters = letters\n",
        "  if numbers:\n",
        "    characters += digits\n",
        "\n",
        "  if special_char:\n",
        "    characters += special\n",
        "\n",
        "  pwd = \"\"\n",
        "\n",
        "  meets_criteria = False\n",
        "  has_number = False\n",
        "  has_special = False\n",
        "\n",
        "  while not meets_criteria or len(pwd) < min_length:\n",
        "    new_char = random.choice(characters)\n",
        "    pwd += new_char\n",
        "\n",
        "    if new_char in digits:\n",
        "      has_number = True\n",
        "    elif new_char in special:\n",
        "      has_special = True\n",
        "\n",
        "    meets_criteria = True\n",
        "    if numbers:\n",
        "      meets_criteria = has_number\n",
        "    if special_char:\n",
        "      meets_criteria = has_special\n",
        "  return pwd\n",
        "\n",
        "min_length = int(input(\"Enter the minimum length for the password: \"))\n",
        "has_number = input(\"Do you want to include numbers? (y/n): \").lower() == 'y'\n",
        "has_special = input(\"Do you want to include special characters? (y/n): \").lower() == 'y'\n",
        "pwd = password_generator(min_length, has_number, has_special)\n",
        "print(\"The recommended password is:\", pwd)"
      ],
      "metadata": {
        "colab": {
          "base_uri": "https://localhost:8080/"
        },
        "id": "7ZkffcEN6iKE",
        "outputId": "51d5ec29-0275-48e5-a5f1-2219e822fc58"
      },
      "execution_count": 3,
      "outputs": [
        {
          "output_type": "stream",
          "name": "stdout",
          "text": [
            "Enter the minimum length for the password: 12\n",
            "Do you want to include numbers? (y/n): n\n",
            "Do you want to include special characters? (y/n): n\n",
            "The recommended password is: ViIYgtguYQAO\n"
          ]
        }
      ]
    },
    {
      "cell_type": "markdown",
      "source": [
        "# **Conclusion**\n",
        "\n",
        "- Password Generator offers an accessible way to fortify your online security. With a user-friendly interface and straightforward functionality, this code is particularly suitable for those new to coding. Its clear structure and logical flow make it easy to grasp, ensuring that even beginners can understand and utilize it effectively.\n",
        "\n",
        "- In a world where cybersecurity is paramount, our Password Generator stands as a valuable tool. Despite its powerful capabilities, the code's simplicity makes it approachable for those with limited coding experience. So whether you're a coding novice or simply looking for a convenient security solution, our beginner-friendly Password Generator is here to help you create strong and customized passwords effortlessly."
      ],
      "metadata": {
        "id": "UqXU656ktm3M"
      }
    }
  ]
}